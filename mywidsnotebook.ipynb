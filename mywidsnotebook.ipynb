{
 "cells": [
  {
   "cell_type": "code",
   "execution_count": null,
   "metadata": {
    "_cell_guid": "b1076dfc-b9ad-4769-8c92-a6c4dae69d19",
    "_uuid": "8f2839f25d086af736a60e9eeb907d3b93b6e0e5",
    "execution": {
     "iopub.execute_input": "2022-07-06T08:53:50.668257Z",
     "iopub.status.busy": "2022-07-06T08:53:50.667941Z",
     "iopub.status.idle": "2022-07-06T08:53:50.688755Z",
     "shell.execute_reply": "2022-07-06T08:53:50.687608Z",
     "shell.execute_reply.started": "2022-07-06T08:53:50.668182Z"
    }
   },
   "outputs": [],
   "source": [
    "# This Python 3 environment comes with many helpful analytics libraries installed\n",
    "# It is defined by the kaggle/python Docker image: https://github.com/kaggle/docker-python\n",
    "# For example, here's several helpful packages to load\n",
    "\n",
    "import numpy as np # linear algebra\n",
    "import pandas as pd # data processing, CSV file I/O (e.g. pd.read_csv)\n",
    "\n",
    "# Input data files are available in the read-only \"../input/\" directory\n",
    "# For example, running this (by clicking run or pressing Shift+Enter) will list all files under the input directory\n",
    "\n",
    "import os\n",
    "for dirname, _, filenames in os.walk('/kaggle/input'):\n",
    "    for filename in filenames:\n",
    "        print(os.path.join(dirname, filename))\n",
    "\n",
    "# You can write up to 20GB to the current directory (/kaggle/working/) that gets preserved as output when you create a version using \"Save & Run All\" \n",
    "# You can also write temporary files to /kaggle/temp/, but they won't be saved outside of the current session"
   ]
  },
  {
   "cell_type": "code",
   "execution_count": null,
   "metadata": {
    "execution": {
     "iopub.execute_input": "2022-07-06T08:54:27.967191Z",
     "iopub.status.busy": "2022-07-06T08:54:27.966839Z",
     "iopub.status.idle": "2022-07-06T08:54:31.638037Z",
     "shell.execute_reply": "2022-07-06T08:54:31.637173Z",
     "shell.execute_reply.started": "2022-07-06T08:54:27.967161Z"
    }
   },
   "outputs": [],
   "source": [
    "train = pd.read_csv('/kaggle/input/training-data/TrainingWiDS2021.csv')"
   ]
  },
  {
   "cell_type": "code",
   "execution_count": null,
   "metadata": {
    "execution": {
     "iopub.execute_input": "2022-07-06T08:54:31.749869Z",
     "iopub.status.busy": "2022-07-06T08:54:31.748795Z",
     "iopub.status.idle": "2022-07-06T08:54:31.990472Z",
     "shell.execute_reply": "2022-07-06T08:54:31.989673Z",
     "shell.execute_reply.started": "2022-07-06T08:54:31.749814Z"
    }
   },
   "outputs": [],
   "source": [
    "test = pd.read_csv('/kaggle/input/testdataset/UnlabeledWiDS2021.csv')"
   ]
  },
  {
   "cell_type": "code",
   "execution_count": null,
   "metadata": {},
   "outputs": [],
   "source": [
    "'''from matplotlib import pyplot\n",
    "names = ['ethnicity', 'hospital_admit_source', 'icu_admit_source', 'icu_stay_type', 'icu_type', 'diabetes_mellitus']\n",
    "correlations = train.corr()\n",
    "fig = pyplot.figure()\n",
    "ax = fig.add_subplot(111)\n",
    "cax = ax.matshow(correlations, vmin=-1, vmax=1)\n",
    "fig.colorbar(cax)\n",
    "#ticks = np.arange(0,9,1)\n",
    "#ax.set_xticks(ticks)\n",
    "#ax.set_yticks(ticks)\n",
    "#ax.set_xticklabels(names)\n",
    "#ax.set_yticklabels(names)\n",
    "pyplot.show()'''"
   ]
  },
  {
   "cell_type": "markdown",
   "metadata": {},
   "source": [
    "**Data Preprocessing for Train data**"
   ]
  },
  {
   "cell_type": "code",
   "execution_count": null,
   "metadata": {
    "execution": {
     "iopub.execute_input": "2022-07-06T08:54:59.465556Z",
     "iopub.status.busy": "2022-07-06T08:54:59.46523Z",
     "iopub.status.idle": "2022-07-06T08:54:59.474578Z",
     "shell.execute_reply": "2022-07-06T08:54:59.47343Z",
     "shell.execute_reply.started": "2022-07-06T08:54:59.465512Z"
    }
   },
   "outputs": [],
   "source": [
    "train.shape"
   ]
  },
  {
   "cell_type": "code",
   "execution_count": null,
   "metadata": {
    "execution": {
     "iopub.execute_input": "2022-07-06T08:55:24.216829Z",
     "iopub.status.busy": "2022-07-06T08:55:24.216494Z",
     "iopub.status.idle": "2022-07-06T08:55:24.22316Z",
     "shell.execute_reply": "2022-07-06T08:55:24.22215Z",
     "shell.execute_reply.started": "2022-07-06T08:55:24.216798Z"
    }
   },
   "outputs": [],
   "source": [
    "pd.set_option('display.max_rows', None)  \n",
    "pd.set_option('display.max_columns', None)    \n",
    "pd.set_option('max_colwidth', None) "
   ]
  },
  {
   "cell_type": "code",
   "execution_count": null,
   "metadata": {
    "execution": {
     "iopub.execute_input": "2022-07-06T08:55:28.864343Z",
     "iopub.status.busy": "2022-07-06T08:55:28.863657Z",
     "iopub.status.idle": "2022-07-06T08:55:28.86984Z",
     "shell.execute_reply": "2022-07-06T08:55:28.868927Z",
     "shell.execute_reply.started": "2022-07-06T08:55:28.864284Z"
    }
   },
   "outputs": [],
   "source": [
    "pd.set_option('display.max_columns', None)\n",
    "pd.set_option('display.max_rows', None)"
   ]
  },
  {
   "cell_type": "code",
   "execution_count": null,
   "metadata": {
    "execution": {
     "iopub.execute_input": "2022-07-06T08:55:45.916848Z",
     "iopub.status.busy": "2022-07-06T08:55:45.916486Z",
     "iopub.status.idle": "2022-07-06T08:55:45.923598Z",
     "shell.execute_reply": "2022-07-06T08:55:45.922441Z",
     "shell.execute_reply.started": "2022-07-06T08:55:45.916815Z"
    }
   },
   "outputs": [],
   "source": [
    "print(train.columns.tolist())"
   ]
  },
  {
   "cell_type": "code",
   "execution_count": null,
   "metadata": {
    "execution": {
     "iopub.execute_input": "2022-07-06T08:55:52.115943Z",
     "iopub.status.busy": "2022-07-06T08:55:52.115629Z",
     "iopub.status.idle": "2022-07-06T08:55:52.123016Z",
     "shell.execute_reply": "2022-07-06T08:55:52.122061Z",
     "shell.execute_reply.started": "2022-07-06T08:55:52.11591Z"
    }
   },
   "outputs": [],
   "source": [
    "train.columns"
   ]
  },
  {
   "cell_type": "code",
   "execution_count": null,
   "metadata": {
    "execution": {
     "iopub.execute_input": "2022-07-06T08:55:53.218562Z",
     "iopub.status.busy": "2022-07-06T08:55:53.218186Z",
     "iopub.status.idle": "2022-07-06T08:55:53.324239Z",
     "shell.execute_reply": "2022-07-06T08:55:53.323179Z",
     "shell.execute_reply.started": "2022-07-06T08:55:53.218506Z"
    }
   },
   "outputs": [],
   "source": [
    "train.drop(\"Unnamed: 0\", axis = 1, inplace = True)"
   ]
  },
  {
   "cell_type": "code",
   "execution_count": null,
   "metadata": {
    "execution": {
     "iopub.execute_input": "2022-07-06T08:55:56.053293Z",
     "iopub.status.busy": "2022-07-06T08:55:56.05297Z",
     "iopub.status.idle": "2022-07-06T08:55:56.201761Z",
     "shell.execute_reply": "2022-07-06T08:55:56.200009Z",
     "shell.execute_reply.started": "2022-07-06T08:55:56.053258Z"
    }
   },
   "outputs": [],
   "source": [
    "train.isnull().sum()"
   ]
  },
  {
   "cell_type": "code",
   "execution_count": null,
   "metadata": {
    "execution": {
     "iopub.execute_input": "2022-07-06T08:55:57.12718Z",
     "iopub.status.busy": "2022-07-06T08:55:57.126868Z",
     "iopub.status.idle": "2022-07-06T08:55:57.270498Z",
     "shell.execute_reply": "2022-07-06T08:55:57.269399Z",
     "shell.execute_reply.started": "2022-07-06T08:55:57.127147Z"
    }
   },
   "outputs": [],
   "source": [
    "train.isnull().sum().sum()"
   ]
  },
  {
   "cell_type": "code",
   "execution_count": null,
   "metadata": {
    "execution": {
     "iopub.execute_input": "2022-07-06T08:55:58.176306Z",
     "iopub.status.busy": "2022-07-06T08:55:58.175957Z",
     "iopub.status.idle": "2022-07-06T08:55:58.317969Z",
     "shell.execute_reply": "2022-07-06T08:55:58.316841Z",
     "shell.execute_reply.started": "2022-07-06T08:55:58.176274Z"
    }
   },
   "outputs": [],
   "source": [
    "# finding those columns with >70% null values\n",
    "train.columns[train.isnull().mean() > .70].tolist()"
   ]
  },
  {
   "cell_type": "code",
   "execution_count": null,
   "metadata": {
    "execution": {
     "iopub.execute_input": "2022-07-06T08:55:59.163882Z",
     "iopub.status.busy": "2022-07-06T08:55:59.162546Z",
     "iopub.status.idle": "2022-07-06T08:56:02.225905Z",
     "shell.execute_reply": "2022-07-06T08:56:02.225192Z",
     "shell.execute_reply.started": "2022-07-06T08:55:59.163659Z"
    }
   },
   "outputs": [],
   "source": [
    "# dropping the columns with >70% null values\n",
    "for col in train:\n",
    "    if train[col].isnull().mean() > .70:\n",
    "        train=train.drop(col, axis = 1)"
   ]
  },
  {
   "cell_type": "code",
   "execution_count": null,
   "metadata": {
    "execution": {
     "iopub.execute_input": "2022-07-06T08:56:04.146242Z",
     "iopub.status.busy": "2022-07-06T08:56:04.145888Z",
     "iopub.status.idle": "2022-07-06T08:56:04.152774Z",
     "shell.execute_reply": "2022-07-06T08:56:04.152013Z",
     "shell.execute_reply.started": "2022-07-06T08:56:04.146209Z"
    }
   },
   "outputs": [],
   "source": [
    "train.shape"
   ]
  },
  {
   "cell_type": "code",
   "execution_count": null,
   "metadata": {
    "execution": {
     "iopub.execute_input": "2022-07-06T08:56:05.289603Z",
     "iopub.status.busy": "2022-07-06T08:56:05.289061Z",
     "iopub.status.idle": "2022-07-06T08:56:15.535697Z",
     "shell.execute_reply": "2022-07-06T08:56:15.534627Z",
     "shell.execute_reply.started": "2022-07-06T08:56:05.289567Z"
    }
   },
   "outputs": [],
   "source": [
    "# import packages\n",
    "import pandas as pd\n",
    "import numpy as np\n",
    "import matplotlib.pyplot as plt\n",
    "import seaborn as sns\n",
    "\n",
    "\n",
    "# run correlation matrix and plot\n",
    "f, ax = plt.subplots(figsize=(30, 28))\n",
    "corr = train.corr()\n",
    "sns.heatmap(corr, mask=np.zeros_like(corr, dtype=np.bool),cmap=sns.diverging_palette(220, 10, as_cmap=True),square=True, ax=ax)"
   ]
  },
  {
   "cell_type": "code",
   "execution_count": null,
   "metadata": {
    "execution": {
     "iopub.execute_input": "2022-07-06T08:56:15.537669Z",
     "iopub.status.busy": "2022-07-06T08:56:15.537416Z",
     "iopub.status.idle": "2022-07-06T08:56:15.58683Z",
     "shell.execute_reply": "2022-07-06T08:56:15.585973Z",
     "shell.execute_reply.started": "2022-07-06T08:56:15.537639Z"
    }
   },
   "outputs": [],
   "source": [
    "# dropping the columns which have no relation with the independent variable\n",
    "cols_drop = ['encounter_id', 'hospital_id', 'elective_surgery','ethnicity','hospital_admit_source','icu_admit_source',\n",
    "             'icu_id', 'icu_stay_type', 'icu_type', 'pre_icu_los_days','readmission_status']\n",
    "train = train.drop(cols_drop, axis=1)\n",
    "train.shape"
   ]
  },
  {
   "cell_type": "code",
   "execution_count": null,
   "metadata": {
    "execution": {
     "iopub.execute_input": "2022-07-06T08:56:19.855184Z",
     "iopub.status.busy": "2022-07-06T08:56:19.85406Z",
     "iopub.status.idle": "2022-07-06T08:56:19.866436Z",
     "shell.execute_reply": "2022-07-06T08:56:19.865476Z",
     "shell.execute_reply.started": "2022-07-06T08:56:19.855103Z"
    }
   },
   "outputs": [],
   "source": [
    "train.dtypes"
   ]
  },
  {
   "cell_type": "code",
   "execution_count": null,
   "metadata": {
    "execution": {
     "iopub.execute_input": "2022-07-06T08:56:23.401027Z",
     "iopub.status.busy": "2022-07-06T08:56:23.400675Z",
     "iopub.status.idle": "2022-07-06T08:56:23.411157Z",
     "shell.execute_reply": "2022-07-06T08:56:23.410245Z",
     "shell.execute_reply.started": "2022-07-06T08:56:23.400993Z"
    }
   },
   "outputs": [],
   "source": [
    "train.dtypes.value_counts()"
   ]
  },
  {
   "cell_type": "code",
   "execution_count": null,
   "metadata": {
    "execution": {
     "iopub.execute_input": "2022-07-06T08:56:24.567218Z",
     "iopub.status.busy": "2022-07-06T08:56:24.566873Z",
     "iopub.status.idle": "2022-07-06T08:56:24.592141Z",
     "shell.execute_reply": "2022-07-06T08:56:24.591437Z",
     "shell.execute_reply.started": "2022-07-06T08:56:24.567187Z"
    }
   },
   "outputs": [],
   "source": [
    "train['gender'].value_counts(dropna = False)"
   ]
  },
  {
   "cell_type": "code",
   "execution_count": null,
   "metadata": {
    "execution": {
     "iopub.execute_input": "2022-07-06T08:56:26.173964Z",
     "iopub.status.busy": "2022-07-06T08:56:26.173623Z",
     "iopub.status.idle": "2022-07-06T08:56:26.196454Z",
     "shell.execute_reply": "2022-07-06T08:56:26.195091Z",
     "shell.execute_reply.started": "2022-07-06T08:56:26.173933Z"
    }
   },
   "outputs": [],
   "source": [
    "# Missing value for Categorical variables\n",
    "train['gender'].fillna(value = 'M', inplace = True)"
   ]
  },
  {
   "cell_type": "code",
   "execution_count": null,
   "metadata": {
    "execution": {
     "iopub.execute_input": "2022-07-06T08:56:27.300481Z",
     "iopub.status.busy": "2022-07-06T08:56:27.299847Z",
     "iopub.status.idle": "2022-07-06T08:56:27.326461Z",
     "shell.execute_reply": "2022-07-06T08:56:27.325821Z",
     "shell.execute_reply.started": "2022-07-06T08:56:27.300443Z"
    }
   },
   "outputs": [],
   "source": [
    "train['gender'].value_counts(dropna = False)"
   ]
  },
  {
   "cell_type": "code",
   "execution_count": null,
   "metadata": {
    "execution": {
     "iopub.execute_input": "2022-07-06T08:56:30.293429Z",
     "iopub.status.busy": "2022-07-06T08:56:30.292509Z",
     "iopub.status.idle": "2022-07-06T08:56:30.309295Z",
     "shell.execute_reply": "2022-07-06T08:56:30.308469Z",
     "shell.execute_reply.started": "2022-07-06T08:56:30.293384Z"
    }
   },
   "outputs": [],
   "source": [
    "# The category codes of the categorical data. Codes are an array of integers which are the positions of the actual \n",
    "# values in the categorical column.\n",
    "\n",
    "train['gender'] = pd.Categorical(train['gender']).codes"
   ]
  },
  {
   "cell_type": "code",
   "execution_count": null,
   "metadata": {
    "execution": {
     "iopub.execute_input": "2022-07-06T08:56:32.389785Z",
     "iopub.status.busy": "2022-07-06T08:56:32.3874Z",
     "iopub.status.idle": "2022-07-06T08:56:32.56973Z",
     "shell.execute_reply": "2022-07-06T08:56:32.568604Z",
     "shell.execute_reply.started": "2022-07-06T08:56:32.389717Z"
    }
   },
   "outputs": [],
   "source": [
    "# replacing null values in the Numerical data columns with the mean of their values\n",
    "for col in train.columns:\n",
    "    train[col].fillna(train[col].mean(), inplace=True)"
   ]
  },
  {
   "cell_type": "code",
   "execution_count": null,
   "metadata": {
    "execution": {
     "iopub.execute_input": "2022-07-06T08:56:33.400872Z",
     "iopub.status.busy": "2022-07-06T08:56:33.400567Z",
     "iopub.status.idle": "2022-07-06T08:56:33.441259Z",
     "shell.execute_reply": "2022-07-06T08:56:33.440611Z",
     "shell.execute_reply.started": "2022-07-06T08:56:33.400839Z"
    }
   },
   "outputs": [],
   "source": [
    "train.isnull().sum()"
   ]
  },
  {
   "cell_type": "code",
   "execution_count": null,
   "metadata": {
    "execution": {
     "iopub.execute_input": "2022-07-06T08:56:34.350679Z",
     "iopub.status.busy": "2022-07-06T08:56:34.34966Z",
     "iopub.status.idle": "2022-07-06T08:56:34.354932Z",
     "shell.execute_reply": "2022-07-06T08:56:34.353707Z",
     "shell.execute_reply.started": "2022-07-06T08:56:34.350629Z"
    }
   },
   "outputs": [],
   "source": [
    "#train['age'].fillna(train['age'].mean(), inplace = True)"
   ]
  },
  {
   "cell_type": "code",
   "execution_count": null,
   "metadata": {
    "execution": {
     "iopub.execute_input": "2022-07-06T08:56:35.281478Z",
     "iopub.status.busy": "2022-07-06T08:56:35.280988Z",
     "iopub.status.idle": "2022-07-06T08:56:35.324772Z",
     "shell.execute_reply": "2022-07-06T08:56:35.323899Z",
     "shell.execute_reply.started": "2022-07-06T08:56:35.281443Z"
    }
   },
   "outputs": [],
   "source": [
    "train.isnull().sum().sum()"
   ]
  },
  {
   "cell_type": "code",
   "execution_count": null,
   "metadata": {
    "execution": {
     "iopub.execute_input": "2022-07-06T08:56:36.098148Z",
     "iopub.status.busy": "2022-07-06T08:56:36.097796Z",
     "iopub.status.idle": "2022-07-06T08:56:36.107242Z",
     "shell.execute_reply": "2022-07-06T08:56:36.106203Z",
     "shell.execute_reply.started": "2022-07-06T08:56:36.098111Z"
    }
   },
   "outputs": [],
   "source": [
    "train.dtypes.value_counts()"
   ]
  },
  {
   "cell_type": "markdown",
   "metadata": {},
   "source": [
    "**Data Preprocessing for Test Data**"
   ]
  },
  {
   "cell_type": "code",
   "execution_count": null,
   "metadata": {
    "execution": {
     "iopub.execute_input": "2022-07-06T08:56:38.718163Z",
     "iopub.status.busy": "2022-07-06T08:56:38.717827Z",
     "iopub.status.idle": "2022-07-06T08:56:38.724951Z",
     "shell.execute_reply": "2022-07-06T08:56:38.723759Z",
     "shell.execute_reply.started": "2022-07-06T08:56:38.718129Z"
    }
   },
   "outputs": [],
   "source": [
    "test.shape"
   ]
  },
  {
   "cell_type": "code",
   "execution_count": null,
   "metadata": {
    "execution": {
     "iopub.execute_input": "2022-07-06T08:56:39.59622Z",
     "iopub.status.busy": "2022-07-06T08:56:39.59546Z",
     "iopub.status.idle": "2022-07-06T08:56:39.603649Z",
     "shell.execute_reply": "2022-07-06T08:56:39.602611Z",
     "shell.execute_reply.started": "2022-07-06T08:56:39.59614Z"
    }
   },
   "outputs": [],
   "source": [
    "test.columns"
   ]
  },
  {
   "cell_type": "code",
   "execution_count": null,
   "metadata": {
    "execution": {
     "iopub.execute_input": "2022-07-06T08:56:40.522403Z",
     "iopub.status.busy": "2022-07-06T08:56:40.522055Z",
     "iopub.status.idle": "2022-07-06T08:56:40.536221Z",
     "shell.execute_reply": "2022-07-06T08:56:40.535123Z",
     "shell.execute_reply.started": "2022-07-06T08:56:40.522369Z"
    }
   },
   "outputs": [],
   "source": [
    "test.drop(\"Unnamed: 0\", axis = 1, inplace = True)"
   ]
  },
  {
   "cell_type": "code",
   "execution_count": null,
   "metadata": {
    "execution": {
     "iopub.execute_input": "2022-07-06T08:56:41.563623Z",
     "iopub.status.busy": "2022-07-06T08:56:41.56311Z",
     "iopub.status.idle": "2022-07-06T08:56:41.588389Z",
     "shell.execute_reply": "2022-07-06T08:56:41.587305Z",
     "shell.execute_reply.started": "2022-07-06T08:56:41.563587Z"
    }
   },
   "outputs": [],
   "source": [
    "test.isnull().sum()"
   ]
  },
  {
   "cell_type": "code",
   "execution_count": null,
   "metadata": {
    "execution": {
     "iopub.execute_input": "2022-07-06T08:56:42.461546Z",
     "iopub.status.busy": "2022-07-06T08:56:42.461188Z",
     "iopub.status.idle": "2022-07-06T08:56:42.482421Z",
     "shell.execute_reply": "2022-07-06T08:56:42.481458Z",
     "shell.execute_reply.started": "2022-07-06T08:56:42.461498Z"
    }
   },
   "outputs": [],
   "source": [
    "test.isnull().sum().sum()"
   ]
  },
  {
   "cell_type": "code",
   "execution_count": null,
   "metadata": {
    "execution": {
     "iopub.execute_input": "2022-07-06T08:56:43.60212Z",
     "iopub.status.busy": "2022-07-06T08:56:43.601658Z",
     "iopub.status.idle": "2022-07-06T08:56:43.623643Z",
     "shell.execute_reply": "2022-07-06T08:56:43.622891Z",
     "shell.execute_reply.started": "2022-07-06T08:56:43.602084Z"
    }
   },
   "outputs": [],
   "source": [
    "# finding the columns which have more than 70% Null values\n",
    "test.columns[test.isnull().mean() > .70].tolist()"
   ]
  },
  {
   "cell_type": "code",
   "execution_count": null,
   "metadata": {
    "execution": {
     "iopub.execute_input": "2022-07-06T08:56:44.64244Z",
     "iopub.status.busy": "2022-07-06T08:56:44.64179Z",
     "iopub.status.idle": "2022-07-06T08:56:44.914222Z",
     "shell.execute_reply": "2022-07-06T08:56:44.913363Z",
     "shell.execute_reply.started": "2022-07-06T08:56:44.64239Z"
    }
   },
   "outputs": [],
   "source": [
    "# dropping the columns having >70% null values\n",
    "for col in test:\n",
    "    if test[col].isnull().mean() > .70:\n",
    "        test=test.drop(col, axis = 1)"
   ]
  },
  {
   "cell_type": "code",
   "execution_count": null,
   "metadata": {
    "execution": {
     "iopub.execute_input": "2022-07-06T08:56:45.863633Z",
     "iopub.status.busy": "2022-07-06T08:56:45.8626Z",
     "iopub.status.idle": "2022-07-06T08:56:45.869944Z",
     "shell.execute_reply": "2022-07-06T08:56:45.869223Z",
     "shell.execute_reply.started": "2022-07-06T08:56:45.863587Z"
    }
   },
   "outputs": [],
   "source": [
    "test.shape"
   ]
  },
  {
   "cell_type": "code",
   "execution_count": null,
   "metadata": {
    "execution": {
     "iopub.execute_input": "2022-07-06T08:56:47.835885Z",
     "iopub.status.busy": "2022-07-06T08:56:47.835339Z",
     "iopub.status.idle": "2022-07-06T08:56:47.850669Z",
     "shell.execute_reply": "2022-07-06T08:56:47.849296Z",
     "shell.execute_reply.started": "2022-07-06T08:56:47.835847Z"
    }
   },
   "outputs": [],
   "source": [
    "# dropping the columns which have no relation with the dependent variable\n",
    "\n",
    "cols_drop = ['encounter_id', 'hospital_id', 'elective_surgery','ethnicity','hospital_admit_source','icu_admit_source',\n",
    "             'icu_id', 'icu_stay_type', 'icu_type', 'pre_icu_los_days','readmission_status']\n",
    "test = test.drop(cols_drop, axis=1)\n",
    "test.shape"
   ]
  },
  {
   "cell_type": "code",
   "execution_count": null,
   "metadata": {
    "execution": {
     "iopub.execute_input": "2022-07-06T08:56:48.852507Z",
     "iopub.status.busy": "2022-07-06T08:56:48.852201Z",
     "iopub.status.idle": "2022-07-06T08:56:48.86485Z",
     "shell.execute_reply": "2022-07-06T08:56:48.863493Z",
     "shell.execute_reply.started": "2022-07-06T08:56:48.852476Z"
    }
   },
   "outputs": [],
   "source": [
    "test.dtypes"
   ]
  },
  {
   "cell_type": "code",
   "execution_count": null,
   "metadata": {
    "execution": {
     "iopub.execute_input": "2022-07-06T08:56:50.116937Z",
     "iopub.status.busy": "2022-07-06T08:56:50.116538Z",
     "iopub.status.idle": "2022-07-06T08:56:50.125783Z",
     "shell.execute_reply": "2022-07-06T08:56:50.124362Z",
     "shell.execute_reply.started": "2022-07-06T08:56:50.116895Z"
    }
   },
   "outputs": [],
   "source": [
    "test.dtypes.value_counts()"
   ]
  },
  {
   "cell_type": "code",
   "execution_count": null,
   "metadata": {
    "execution": {
     "iopub.execute_input": "2022-07-06T08:56:51.074649Z",
     "iopub.status.busy": "2022-07-06T08:56:51.074295Z",
     "iopub.status.idle": "2022-07-06T08:56:51.085236Z",
     "shell.execute_reply": "2022-07-06T08:56:51.08416Z",
     "shell.execute_reply.started": "2022-07-06T08:56:51.074612Z"
    }
   },
   "outputs": [],
   "source": [
    "# replacing the null values in the categorical data column\n",
    "test['gender'].value_counts(dropna = False)"
   ]
  },
  {
   "cell_type": "code",
   "execution_count": null,
   "metadata": {
    "execution": {
     "iopub.execute_input": "2022-07-06T08:56:51.940744Z",
     "iopub.status.busy": "2022-07-06T08:56:51.939455Z",
     "iopub.status.idle": "2022-07-06T08:56:51.947164Z",
     "shell.execute_reply": "2022-07-06T08:56:51.946342Z",
     "shell.execute_reply.started": "2022-07-06T08:56:51.940692Z"
    }
   },
   "outputs": [],
   "source": [
    "test['gender'].fillna(value = 'M', inplace = True)"
   ]
  },
  {
   "cell_type": "code",
   "execution_count": null,
   "metadata": {
    "execution": {
     "iopub.execute_input": "2022-07-06T08:56:52.905071Z",
     "iopub.status.busy": "2022-07-06T08:56:52.904268Z",
     "iopub.status.idle": "2022-07-06T08:56:52.914729Z",
     "shell.execute_reply": "2022-07-06T08:56:52.914019Z",
     "shell.execute_reply.started": "2022-07-06T08:56:52.905032Z"
    }
   },
   "outputs": [],
   "source": [
    "test['gender'].value_counts(dropna = False)"
   ]
  },
  {
   "cell_type": "code",
   "execution_count": null,
   "metadata": {
    "execution": {
     "iopub.execute_input": "2022-07-06T08:56:54.561698Z",
     "iopub.status.busy": "2022-07-06T08:56:54.561298Z",
     "iopub.status.idle": "2022-07-06T08:56:54.568838Z",
     "shell.execute_reply": "2022-07-06T08:56:54.56796Z",
     "shell.execute_reply.started": "2022-07-06T08:56:54.56166Z"
    }
   },
   "outputs": [],
   "source": [
    "# The category codes of the categorical data. Codes are an array of integers which are the positions of the actual \n",
    "# values in the categorical column.\n",
    "\n",
    "test['gender'] = pd.Categorical(test['gender']).codes"
   ]
  },
  {
   "cell_type": "code",
   "execution_count": null,
   "metadata": {
    "execution": {
     "iopub.execute_input": "2022-07-06T08:56:59.170572Z",
     "iopub.status.busy": "2022-07-06T08:56:59.16975Z",
     "iopub.status.idle": "2022-07-06T08:56:59.224739Z",
     "shell.execute_reply": "2022-07-06T08:56:59.223979Z",
     "shell.execute_reply.started": "2022-07-06T08:56:59.170509Z"
    }
   },
   "outputs": [],
   "source": [
    "# replacing all the null values in the Numerical data columns with the mean of values occuring in that column\n",
    "for col in test.columns:\n",
    "    test[col].fillna(test[col].mean(), inplace=True)"
   ]
  },
  {
   "cell_type": "code",
   "execution_count": null,
   "metadata": {
    "execution": {
     "iopub.execute_input": "2022-07-06T08:57:05.013835Z",
     "iopub.status.busy": "2022-07-06T08:57:05.013133Z",
     "iopub.status.idle": "2022-07-06T08:57:05.028325Z",
     "shell.execute_reply": "2022-07-06T08:57:05.027067Z",
     "shell.execute_reply.started": "2022-07-06T08:57:05.01377Z"
    }
   },
   "outputs": [],
   "source": [
    "test.isnull().sum()"
   ]
  },
  {
   "cell_type": "markdown",
   "metadata": {},
   "source": [
    "**Logistic Regression for 70-30 dataset**"
   ]
  },
  {
   "cell_type": "code",
   "execution_count": null,
   "metadata": {
    "execution": {
     "iopub.execute_input": "2022-07-06T08:57:20.270606Z",
     "iopub.status.busy": "2022-07-06T08:57:20.269541Z",
     "iopub.status.idle": "2022-07-06T08:57:20.33649Z",
     "shell.execute_reply": "2022-07-06T08:57:20.335219Z",
     "shell.execute_reply.started": "2022-07-06T08:57:20.270515Z"
    }
   },
   "outputs": [],
   "source": [
    "# Extracting the dependent and independent variables\n",
    "x = train.drop(\"diabetes_mellitus\" , axis=1)\n",
    "y = train.pop(\"diabetes_mellitus\")"
   ]
  },
  {
   "cell_type": "code",
   "execution_count": null,
   "metadata": {
    "execution": {
     "iopub.execute_input": "2022-07-06T08:57:21.279122Z",
     "iopub.status.busy": "2022-07-06T08:57:21.277907Z",
     "iopub.status.idle": "2022-07-06T08:57:21.462766Z",
     "shell.execute_reply": "2022-07-06T08:57:21.462018Z",
     "shell.execute_reply.started": "2022-07-06T08:57:21.279061Z"
    }
   },
   "outputs": [],
   "source": [
    "# Splitting the train dataset into testing and training set\n",
    "from sklearn.model_selection import train_test_split\n",
    "xTrain,xTest,yTrain,yTest = train_test_split(x,y,test_size = 0.30,random_state = 0)"
   ]
  },
  {
   "cell_type": "code",
   "execution_count": null,
   "metadata": {
    "execution": {
     "iopub.execute_input": "2022-07-06T08:57:22.38567Z",
     "iopub.status.busy": "2022-07-06T08:57:22.385363Z",
     "iopub.status.idle": "2022-07-06T08:57:22.626507Z",
     "shell.execute_reply": "2022-07-06T08:57:22.625396Z",
     "shell.execute_reply.started": "2022-07-06T08:57:22.385641Z"
    }
   },
   "outputs": [],
   "source": [
    "# Feature Scaling  \n",
    "from sklearn.preprocessing import StandardScaler    \n",
    "st_x= StandardScaler()    \n",
    "xTrain= st_x.fit_transform(xTrain)    \n",
    "xTest= st_x.transform(xTest)  "
   ]
  },
  {
   "cell_type": "code",
   "execution_count": null,
   "metadata": {
    "execution": {
     "iopub.execute_input": "2022-07-06T08:57:23.57163Z",
     "iopub.status.busy": "2022-07-06T08:57:23.57107Z",
     "iopub.status.idle": "2022-07-06T08:57:26.738903Z",
     "shell.execute_reply": "2022-07-06T08:57:26.737823Z",
     "shell.execute_reply.started": "2022-07-06T08:57:23.571584Z"
    }
   },
   "outputs": [],
   "source": [
    "# Fitting Logistic Regression to the training set\n",
    "from sklearn.linear_model import LogisticRegression  \n",
    "classifier= LogisticRegression(random_state=0)  \n",
    "classifier.fit(xTrain, yTrain)  "
   ]
  },
  {
   "cell_type": "code",
   "execution_count": null,
   "metadata": {
    "execution": {
     "iopub.execute_input": "2022-07-06T08:57:27.178898Z",
     "iopub.status.busy": "2022-07-06T08:57:27.178413Z",
     "iopub.status.idle": "2022-07-06T08:57:27.193121Z",
     "shell.execute_reply": "2022-07-06T08:57:27.19119Z",
     "shell.execute_reply.started": "2022-07-06T08:57:27.178855Z"
    }
   },
   "outputs": [],
   "source": [
    "# Predicting the test set result  \n",
    "yPred= classifier.predict(xTest)  "
   ]
  },
  {
   "cell_type": "code",
   "execution_count": null,
   "metadata": {
    "execution": {
     "iopub.execute_input": "2022-07-06T08:57:38.828543Z",
     "iopub.status.busy": "2022-07-06T08:57:38.828163Z",
     "iopub.status.idle": "2022-07-06T08:57:38.842203Z",
     "shell.execute_reply": "2022-07-06T08:57:38.841135Z",
     "shell.execute_reply.started": "2022-07-06T08:57:38.828485Z"
    }
   },
   "outputs": [],
   "source": [
    "# Creating the Confusion matrix to test the accuracy \n",
    "from sklearn.metrics import confusion_matrix  \n",
    "cm= confusion_matrix(yTest,yPred)  "
   ]
  },
  {
   "cell_type": "code",
   "execution_count": null,
   "metadata": {
    "execution": {
     "iopub.execute_input": "2022-07-06T08:57:39.953861Z",
     "iopub.status.busy": "2022-07-06T08:57:39.952769Z",
     "iopub.status.idle": "2022-07-06T08:57:39.960748Z",
     "shell.execute_reply": "2022-07-06T08:57:39.960027Z",
     "shell.execute_reply.started": "2022-07-06T08:57:39.953772Z"
    }
   },
   "outputs": [],
   "source": [
    "cm"
   ]
  },
  {
   "cell_type": "code",
   "execution_count": null,
   "metadata": {
    "execution": {
     "iopub.execute_input": "2022-07-06T08:57:41.917425Z",
     "iopub.status.busy": "2022-07-06T08:57:41.916774Z",
     "iopub.status.idle": "2022-07-06T08:57:41.921046Z",
     "shell.execute_reply": "2022-07-06T08:57:41.920388Z",
     "shell.execute_reply.started": "2022-07-06T08:57:41.917389Z"
    }
   },
   "outputs": [],
   "source": [
    "# 29201+2585 = 31786 -> Correct Outputs\n",
    "#1387+5875 = 7262 -> Incorrect Outputs"
   ]
  },
  {
   "cell_type": "code",
   "execution_count": null,
   "metadata": {
    "execution": {
     "iopub.execute_input": "2022-07-06T08:57:56.706209Z",
     "iopub.status.busy": "2022-07-06T08:57:56.705868Z",
     "iopub.status.idle": "2022-07-06T08:57:56.717847Z",
     "shell.execute_reply": "2022-07-06T08:57:56.716622Z",
     "shell.execute_reply.started": "2022-07-06T08:57:56.706176Z"
    }
   },
   "outputs": [],
   "source": [
    "from sklearn.metrics import accuracy_score\n",
    "print(accuracy_score(yTest,yPred))"
   ]
  },
  {
   "cell_type": "markdown",
   "metadata": {},
   "source": [
    "**Decision Tree**"
   ]
  },
  {
   "cell_type": "code",
   "execution_count": null,
   "metadata": {
    "execution": {
     "iopub.execute_input": "2022-07-06T08:58:02.00345Z",
     "iopub.status.busy": "2022-07-06T08:58:02.001974Z",
     "iopub.status.idle": "2022-07-06T08:58:02.20022Z",
     "shell.execute_reply": "2022-07-06T08:58:02.199105Z",
     "shell.execute_reply.started": "2022-07-06T08:58:02.003385Z"
    }
   },
   "outputs": [],
   "source": [
    "from sklearn.metrics import accuracy_score\n",
    "from sklearn.feature_selection import VarianceThreshold\n",
    "from sklearn.ensemble import RandomForestClassifier\n",
    "from sklearn.svm import SVC\n",
    "from sklearn.model_selection import GridSearchCV,RandomizedSearchCV\n",
    "from sklearn import tree\n",
    "from sklearn.neighbors import KNeighborsClassifier\n",
    "from sklearn.naive_bayes import GaussianNB"
   ]
  },
  {
   "cell_type": "code",
   "execution_count": null,
   "metadata": {
    "execution": {
     "iopub.execute_input": "2022-07-06T08:58:03.467314Z",
     "iopub.status.busy": "2022-07-06T08:58:03.465996Z",
     "iopub.status.idle": "2022-07-06T08:58:13.420745Z",
     "shell.execute_reply": "2022-07-06T08:58:13.419773Z",
     "shell.execute_reply.started": "2022-07-06T08:58:03.467269Z"
    }
   },
   "outputs": [],
   "source": [
    "model = tree.DecisionTreeClassifier()\n",
    "model = model.fit(xTrain, yTrain)"
   ]
  },
  {
   "cell_type": "code",
   "execution_count": null,
   "metadata": {
    "execution": {
     "iopub.execute_input": "2022-07-06T08:58:13.423598Z",
     "iopub.status.busy": "2022-07-06T08:58:13.422514Z",
     "iopub.status.idle": "2022-07-06T08:58:13.456034Z",
     "shell.execute_reply": "2022-07-06T08:58:13.455261Z",
     "shell.execute_reply.started": "2022-07-06T08:58:13.423555Z"
    }
   },
   "outputs": [],
   "source": [
    "predicted_value = model.predict(xTest)"
   ]
  },
  {
   "cell_type": "code",
   "execution_count": null,
   "metadata": {
    "execution": {
     "iopub.execute_input": "2022-07-06T08:58:17.338641Z",
     "iopub.status.busy": "2022-07-06T08:58:17.338255Z",
     "iopub.status.idle": "2022-07-06T08:58:17.349759Z",
     "shell.execute_reply": "2022-07-06T08:58:17.348841Z",
     "shell.execute_reply.started": "2022-07-06T08:58:17.338592Z"
    }
   },
   "outputs": [],
   "source": [
    "print(\"ACCURACY OF THE MODEL: \",accuracy_score(yTest, predicted_value)*100)"
   ]
  },
  {
   "cell_type": "code",
   "execution_count": null,
   "metadata": {
    "execution": {
     "iopub.execute_input": "2022-07-06T08:58:18.562785Z",
     "iopub.status.busy": "2022-07-06T08:58:18.562275Z",
     "iopub.status.idle": "2022-07-06T08:58:18.652928Z",
     "shell.execute_reply": "2022-07-06T08:58:18.65198Z",
     "shell.execute_reply.started": "2022-07-06T08:58:18.562749Z"
    }
   },
   "outputs": [],
   "source": [
    "predicted_value = model.predict(xTrain)"
   ]
  },
  {
   "cell_type": "code",
   "execution_count": null,
   "metadata": {
    "execution": {
     "iopub.execute_input": "2022-07-06T08:58:20.786404Z",
     "iopub.status.busy": "2022-07-06T08:58:20.785733Z",
     "iopub.status.idle": "2022-07-06T08:58:20.802884Z",
     "shell.execute_reply": "2022-07-06T08:58:20.80208Z",
     "shell.execute_reply.started": "2022-07-06T08:58:20.786361Z"
    }
   },
   "outputs": [],
   "source": [
    "print(\"ACCURACY OF THE MODEL: \",accuracy_score(yTrain, predicted_value)*100)"
   ]
  },
  {
   "cell_type": "markdown",
   "metadata": {},
   "source": [
    "**Random Forest**"
   ]
  },
  {
   "cell_type": "code",
   "execution_count": null,
   "metadata": {
    "execution": {
     "iopub.execute_input": "2022-07-06T08:58:23.15588Z",
     "iopub.status.busy": "2022-07-06T08:58:23.155318Z",
     "iopub.status.idle": "2022-07-06T08:59:24.437363Z",
     "shell.execute_reply": "2022-07-06T08:59:24.435993Z",
     "shell.execute_reply.started": "2022-07-06T08:58:23.155826Z"
    }
   },
   "outputs": [],
   "source": [
    "clf = RandomForestClassifier()\n",
    "clf.fit(xTrain, yTrain)\n",
    "yPred = clf.predict(xTest)\n",
    "print(\"ACCURACY OF THE MODEL: \",accuracy_score(yTest, yPred)*100)"
   ]
  },
  {
   "cell_type": "code",
   "execution_count": null,
   "metadata": {
    "execution": {
     "iopub.execute_input": "2022-07-06T08:59:51.764156Z",
     "iopub.status.busy": "2022-07-06T08:59:51.763787Z",
     "iopub.status.idle": "2022-07-06T08:59:55.833053Z",
     "shell.execute_reply": "2022-07-06T08:59:55.831758Z",
     "shell.execute_reply.started": "2022-07-06T08:59:51.764119Z"
    }
   },
   "outputs": [],
   "source": [
    "y_pred = clf.predict(xTrain)\n",
    "print(\"ACCURACY OF THE MODEL: \",accuracy_score(yTrain, y_pred)*100)"
   ]
  },
  {
   "cell_type": "markdown",
   "metadata": {},
   "source": [
    "**XG Boost**"
   ]
  },
  {
   "cell_type": "code",
   "execution_count": null,
   "metadata": {
    "execution": {
     "iopub.execute_input": "2022-07-06T09:00:25.672189Z",
     "iopub.status.busy": "2022-07-06T09:00:25.671862Z",
     "iopub.status.idle": "2022-07-06T09:00:25.706265Z",
     "shell.execute_reply": "2022-07-06T09:00:25.705126Z",
     "shell.execute_reply.started": "2022-07-06T09:00:25.672158Z"
    }
   },
   "outputs": [],
   "source": [
    "from xgboost import XGBClassifier"
   ]
  },
  {
   "cell_type": "code",
   "execution_count": null,
   "metadata": {
    "execution": {
     "iopub.execute_input": "2022-07-06T09:00:28.163825Z",
     "iopub.status.busy": "2022-07-06T09:00:28.163482Z",
     "iopub.status.idle": "2022-07-06T09:00:28.168912Z",
     "shell.execute_reply": "2022-07-06T09:00:28.16803Z",
     "shell.execute_reply.started": "2022-07-06T09:00:28.163793Z"
    }
   },
   "outputs": [],
   "source": [
    "model = XGBClassifier()"
   ]
  },
  {
   "cell_type": "code",
   "execution_count": null,
   "metadata": {
    "execution": {
     "iopub.execute_input": "2022-07-06T09:00:30.613721Z",
     "iopub.status.busy": "2022-07-06T09:00:30.613322Z",
     "iopub.status.idle": "2022-07-06T09:01:01.41728Z",
     "shell.execute_reply": "2022-07-06T09:01:01.416018Z",
     "shell.execute_reply.started": "2022-07-06T09:00:30.613671Z"
    }
   },
   "outputs": [],
   "source": [
    "model.fit(xTrain, yTrain)"
   ]
  },
  {
   "cell_type": "code",
   "execution_count": null,
   "metadata": {
    "execution": {
     "iopub.execute_input": "2022-07-06T09:01:03.501272Z",
     "iopub.status.busy": "2022-07-06T09:01:03.500939Z",
     "iopub.status.idle": "2022-07-06T09:01:03.577051Z",
     "shell.execute_reply": "2022-07-06T09:01:03.575938Z",
     "shell.execute_reply.started": "2022-07-06T09:01:03.501241Z"
    }
   },
   "outputs": [],
   "source": [
    "y_pred = model.predict(xTest)"
   ]
  },
  {
   "cell_type": "code",
   "execution_count": null,
   "metadata": {
    "execution": {
     "iopub.execute_input": "2022-07-06T09:01:17.471805Z",
     "iopub.status.busy": "2022-07-06T09:01:17.47145Z",
     "iopub.status.idle": "2022-07-06T09:01:17.484035Z",
     "shell.execute_reply": "2022-07-06T09:01:17.482599Z",
     "shell.execute_reply.started": "2022-07-06T09:01:17.47177Z"
    }
   },
   "outputs": [],
   "source": [
    "accuracy_score(yTest, y_pred)"
   ]
  },
  {
   "cell_type": "markdown",
   "metadata": {},
   "source": [
    "**Deployment**"
   ]
  },
  {
   "cell_type": "code",
   "execution_count": null,
   "metadata": {
    "execution": {
     "iopub.execute_input": "2022-07-06T09:01:20.367743Z",
     "iopub.status.busy": "2022-07-06T09:01:20.367148Z",
     "iopub.status.idle": "2022-07-06T09:01:20.372869Z",
     "shell.execute_reply": "2022-07-06T09:01:20.371981Z",
     "shell.execute_reply.started": "2022-07-06T09:01:20.367705Z"
    }
   },
   "outputs": [],
   "source": [
    "#pip install gradio"
   ]
  },
  {
   "cell_type": "code",
   "execution_count": null,
   "metadata": {
    "execution": {
     "iopub.execute_input": "2022-07-06T09:01:40.145751Z",
     "iopub.status.busy": "2022-07-06T09:01:40.145417Z",
     "iopub.status.idle": "2022-07-06T09:01:41.03171Z",
     "shell.execute_reply": "2022-07-06T09:01:41.030803Z",
     "shell.execute_reply.started": "2022-07-06T09:01:40.145716Z"
    }
   },
   "outputs": [],
   "source": [
    "import gradio as gr"
   ]
  },
  {
   "cell_type": "code",
   "execution_count": null,
   "metadata": {
    "execution": {
     "iopub.execute_input": "2022-07-06T09:01:46.029698Z",
     "iopub.status.busy": "2022-07-06T09:01:46.029279Z",
     "iopub.status.idle": "2022-07-06T09:01:46.037986Z",
     "shell.execute_reply": "2022-07-06T09:01:46.037006Z",
     "shell.execute_reply.started": "2022-07-06T09:01:46.029661Z"
    }
   },
   "outputs": [],
   "source": [
    "train.shape"
   ]
  },
  {
   "cell_type": "code",
   "execution_count": null,
   "metadata": {
    "execution": {
     "iopub.execute_input": "2022-07-06T09:01:47.465174Z",
     "iopub.status.busy": "2022-07-06T09:01:47.464807Z",
     "iopub.status.idle": "2022-07-06T09:01:47.471782Z",
     "shell.execute_reply": "2022-07-06T09:01:47.470626Z",
     "shell.execute_reply.started": "2022-07-06T09:01:47.465138Z"
    }
   },
   "outputs": [],
   "source": [
    "print(train.columns)"
   ]
  },
  {
   "cell_type": "code",
   "execution_count": null,
   "metadata": {
    "execution": {
     "iopub.execute_input": "2022-07-06T09:01:48.970613Z",
     "iopub.status.busy": "2022-07-06T09:01:48.969842Z",
     "iopub.status.idle": "2022-07-06T09:01:48.975427Z",
     "shell.execute_reply": "2022-07-06T09:01:48.974751Z",
     "shell.execute_reply.started": "2022-07-06T09:01:48.970561Z"
    }
   },
   "outputs": [],
   "source": [
    "#train.drop('diabetes_mellitus',inplace = True)"
   ]
  },
  {
   "cell_type": "code",
   "execution_count": null,
   "metadata": {
    "execution": {
     "iopub.execute_input": "2022-07-06T09:01:50.102717Z",
     "iopub.status.busy": "2022-07-06T09:01:50.102079Z",
     "iopub.status.idle": "2022-07-06T09:01:50.107533Z",
     "shell.execute_reply": "2022-07-06T09:01:50.106918Z",
     "shell.execute_reply.started": "2022-07-06T09:01:50.102662Z"
    }
   },
   "outputs": [],
   "source": [
    "train.index.name = \"index\""
   ]
  },
  {
   "cell_type": "code",
   "execution_count": null,
   "metadata": {
    "execution": {
     "iopub.execute_input": "2022-07-06T09:01:51.528675Z",
     "iopub.status.busy": "2022-07-06T09:01:51.528318Z",
     "iopub.status.idle": "2022-07-06T09:01:51.544128Z",
     "shell.execute_reply": "2022-07-06T09:01:51.543272Z",
     "shell.execute_reply.started": "2022-07-06T09:01:51.528643Z"
    }
   },
   "outputs": [],
   "source": [
    "index = [x for x in range(1,130158)]"
   ]
  },
  {
   "cell_type": "code",
   "execution_count": null,
   "metadata": {
    "execution": {
     "iopub.execute_input": "2022-07-06T09:01:53.549029Z",
     "iopub.status.busy": "2022-07-06T09:01:53.548681Z",
     "iopub.status.idle": "2022-07-06T09:01:53.608652Z",
     "shell.execute_reply": "2022-07-06T09:01:53.607871Z",
     "shell.execute_reply.started": "2022-07-06T09:01:53.548995Z"
    }
   },
   "outputs": [],
   "source": [
    "train.index = index"
   ]
  },
  {
   "cell_type": "code",
   "execution_count": null,
   "metadata": {
    "execution": {
     "iopub.execute_input": "2022-07-06T09:02:00.022586Z",
     "iopub.status.busy": "2022-07-06T09:02:00.021407Z",
     "iopub.status.idle": "2022-07-06T09:02:00.026694Z",
     "shell.execute_reply": "2022-07-06T09:02:00.025906Z",
     "shell.execute_reply.started": "2022-07-06T09:02:00.022546Z"
    }
   },
   "outputs": [],
   "source": [
    "import pickle"
   ]
  },
  {
   "cell_type": "code",
   "execution_count": null,
   "metadata": {
    "execution": {
     "iopub.execute_input": "2022-07-06T09:02:02.996107Z",
     "iopub.status.busy": "2022-07-06T09:02:02.995171Z",
     "iopub.status.idle": "2022-07-06T09:02:03.532551Z",
     "shell.execute_reply": "2022-07-06T09:02:03.531623Z",
     "shell.execute_reply.started": "2022-07-06T09:02:02.996057Z"
    }
   },
   "outputs": [],
   "source": [
    "pickle.dump(clf,open('csv.sav','wb'))"
   ]
  },
  {
   "cell_type": "code",
   "execution_count": null,
   "metadata": {
    "execution": {
     "iopub.execute_input": "2022-07-06T09:02:04.640684Z",
     "iopub.status.busy": "2022-07-06T09:02:04.640213Z",
     "iopub.status.idle": "2022-07-06T09:02:04.999136Z",
     "shell.execute_reply": "2022-07-06T09:02:04.998054Z",
     "shell.execute_reply.started": "2022-07-06T09:02:04.640649Z"
    }
   },
   "outputs": [],
   "source": [
    "model = pickle.load(open('csv.sav','rb'))"
   ]
  },
  {
   "cell_type": "code",
   "execution_count": null,
   "metadata": {
    "execution": {
     "iopub.execute_input": "2022-07-06T09:02:06.383228Z",
     "iopub.status.busy": "2022-07-06T09:02:06.382916Z",
     "iopub.status.idle": "2022-07-06T09:02:06.389214Z",
     "shell.execute_reply": "2022-07-06T09:02:06.388466Z",
     "shell.execute_reply.started": "2022-07-06T09:02:06.383196Z"
    }
   },
   "outputs": [],
   "source": [
    "def predict_res(id):\n",
    "    x = train.loc[id].to_numpy()\n",
    "    a_stand = (x - xTrain.mean())/(xTrain.std())\n",
    "    if model.predict([a_stand]) == 0:\n",
    "        return \"The patient is not diagnosed with Diabetes Mellitus\"\n",
    "    else :\n",
    "        return \"The patient is  diagnosed with Diabetes Mellitus\""
   ]
  },
  {
   "cell_type": "code",
   "execution_count": null,
   "metadata": {
    "execution": {
     "iopub.execute_input": "2022-07-06T09:02:10.60675Z",
     "iopub.status.busy": "2022-07-06T09:02:10.606393Z",
     "iopub.status.idle": "2022-07-06T09:02:10.611684Z",
     "shell.execute_reply": "2022-07-06T09:02:10.610761Z",
     "shell.execute_reply.started": "2022-07-06T09:02:10.606713Z"
    }
   },
   "outputs": [],
   "source": [
    "title = \"Prediction of Diabetes Mellitus\"\n",
    "description = \"\"\"\n",
    "<center>\n",
    "The bot is trained to predict whether a patient admitted to an ICU has been diagnosed with a particular type of diabetes, Diabetes Mellitus.\n",
    "<img src=\"https://m.economictimes.com/thumb/msid-61997607,width-1200,height-900,resizemode-4,imgsize-175312/suffering-from-diabetes-five-apps-to-help-you-manage-your-lifestyle-better.jpg\" width=\"300\" height=\"200\">\n",
    "Give the ID of the patient\n",
    "</center>\n",
    "\"\"\""
   ]
  },
  {
   "cell_type": "code",
   "execution_count": null,
   "metadata": {
    "execution": {
     "iopub.execute_input": "2022-07-06T09:02:11.784131Z",
     "iopub.status.busy": "2022-07-06T09:02:11.783748Z",
     "iopub.status.idle": "2022-07-06T09:02:11.790805Z",
     "shell.execute_reply": "2022-07-06T09:02:11.789635Z",
     "shell.execute_reply.started": "2022-07-06T09:02:11.784086Z"
    }
   },
   "outputs": [],
   "source": [
    "outputs = gr.outputs.Textbox()"
   ]
  },
  {
   "cell_type": "code",
   "execution_count": null,
   "metadata": {
    "execution": {
     "iopub.execute_input": "2022-07-06T09:02:14.032344Z",
     "iopub.status.busy": "2022-07-06T09:02:14.03149Z",
     "iopub.status.idle": "2022-07-06T09:02:17.350873Z",
     "shell.execute_reply": "2022-07-06T09:02:17.349955Z",
     "shell.execute_reply.started": "2022-07-06T09:02:14.0323Z"
    }
   },
   "outputs": [],
   "source": [
    "gr.Interface(predict_res, inputs=\"number\", outputs=outputs,title = title,description = description).launch(share = True)"
   ]
  },
  {
   "cell_type": "code",
   "execution_count": null,
   "metadata": {},
   "outputs": [],
   "source": []
  }
 ],
 "metadata": {
  "kernelspec": {
   "display_name": "Python 3 (ipykernel)",
   "language": "python",
   "name": "python3"
  },
  "language_info": {
   "codemirror_mode": {
    "name": "ipython",
    "version": 3
   },
   "file_extension": ".py",
   "mimetype": "text/x-python",
   "name": "python",
   "nbconvert_exporter": "python",
   "pygments_lexer": "ipython3",
   "version": "3.10.0"
  }
 },
 "nbformat": 4,
 "nbformat_minor": 4
}
